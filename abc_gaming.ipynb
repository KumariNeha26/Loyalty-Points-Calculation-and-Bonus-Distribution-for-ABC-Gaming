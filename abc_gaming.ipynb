{
 "cells": [
  {
   "cell_type": "code",
   "execution_count": 1,
   "id": "ec2a52fd-c3ff-4a23-b1a2-158df98afaeb",
   "metadata": {},
   "outputs": [],
   "source": [
    "import pandas as pd \n",
    "import numpy as np"
   ]
  },
  {
   "cell_type": "code",
   "execution_count": 2,
   "id": "83787751-f5f7-41a8-a98f-a6602f415230",
   "metadata": {},
   "outputs": [],
   "source": [
    "#Load gameplay data, deposit data and withdrawal data\n",
    "gameplay_data= pd.read_csv(r\"C:\\Users\\kushn\\Downloads\\Files\\gameplay_data.csv\", low_memory=False)\n",
    "deposit_data = pd.read_csv(r\"C:\\Users\\kushn\\Downloads\\Files\\deposit_data.csv\")\n",
    "withdrawal_data = pd.read_csv(r\"C:\\Users\\kushn\\Downloads\\Files\\withdrawal_data.csv\")\n"
   ]
  },
  {
   "cell_type": "code",
   "execution_count": 3,
   "id": "21ef2873-2d61-41a2-abe9-d6b310e26c1b",
   "metadata": {},
   "outputs": [
    {
     "data": {
      "text/html": [
       "<div>\n",
       "<style scoped>\n",
       "    .dataframe tbody tr th:only-of-type {\n",
       "        vertical-align: middle;\n",
       "    }\n",
       "\n",
       "    .dataframe tbody tr th {\n",
       "        vertical-align: top;\n",
       "    }\n",
       "\n",
       "    .dataframe thead th {\n",
       "        text-align: right;\n",
       "    }\n",
       "</style>\n",
       "<table border=\"1\" class=\"dataframe\">\n",
       "  <thead>\n",
       "    <tr style=\"text-align: right;\">\n",
       "      <th></th>\n",
       "      <th>User ID</th>\n",
       "      <th>Games Played</th>\n",
       "      <th>Datetime</th>\n",
       "    </tr>\n",
       "  </thead>\n",
       "  <tbody>\n",
       "    <tr>\n",
       "      <th>0</th>\n",
       "      <td>0</td>\n",
       "      <td>1</td>\n",
       "      <td>04-10-2022 18:28</td>\n",
       "    </tr>\n",
       "    <tr>\n",
       "      <th>1</th>\n",
       "      <td>0</td>\n",
       "      <td>1</td>\n",
       "      <td>05-10-2022 23:03</td>\n",
       "    </tr>\n",
       "    <tr>\n",
       "      <th>2</th>\n",
       "      <td>0</td>\n",
       "      <td>1</td>\n",
       "      <td>06-10-2022 02:23</td>\n",
       "    </tr>\n",
       "    <tr>\n",
       "      <th>3</th>\n",
       "      <td>0</td>\n",
       "      <td>1</td>\n",
       "      <td>10-10-2022 04:17</td>\n",
       "    </tr>\n",
       "    <tr>\n",
       "      <th>4</th>\n",
       "      <td>0</td>\n",
       "      <td>1</td>\n",
       "      <td>10-10-2022 14:58</td>\n",
       "    </tr>\n",
       "  </tbody>\n",
       "</table>\n",
       "</div>"
      ],
      "text/plain": [
       "   User ID  Games Played          Datetime\n",
       "0        0             1  04-10-2022 18:28\n",
       "1        0             1  05-10-2022 23:03\n",
       "2        0             1  06-10-2022 02:23\n",
       "3        0             1  10-10-2022 04:17\n",
       "4        0             1  10-10-2022 14:58"
      ]
     },
     "execution_count": 3,
     "metadata": {},
     "output_type": "execute_result"
    }
   ],
   "source": [
    "# Show the first 5 rows of the gameplay data\n",
    "gameplay_data.head()"
   ]
  },
  {
   "cell_type": "code",
   "execution_count": 4,
   "id": "9999fbea-d40c-428e-bbca-2aeb3cedb0ee",
   "metadata": {},
   "outputs": [
    {
     "data": {
      "text/plain": [
       "(341530, 3)"
      ]
     },
     "execution_count": 4,
     "metadata": {},
     "output_type": "execute_result"
    }
   ],
   "source": [
    "# Get the shape of the gameplay data\n",
    "gameplay_data.shape"
   ]
  },
  {
   "cell_type": "code",
   "execution_count": 5,
   "id": "7c257d49-9882-489a-8f98-72897fd258b8",
   "metadata": {},
   "outputs": [
    {
     "name": "stdout",
     "output_type": "stream",
     "text": [
      "<class 'pandas.core.frame.DataFrame'>\n",
      "RangeIndex: 341530 entries, 0 to 341529\n",
      "Data columns (total 3 columns):\n",
      " #   Column        Non-Null Count   Dtype \n",
      "---  ------        --------------   ----- \n",
      " 0   User ID       341530 non-null  int64 \n",
      " 1   Games Played  341530 non-null  int64 \n",
      " 2   Datetime      341530 non-null  object\n",
      "dtypes: int64(2), object(1)\n",
      "memory usage: 7.8+ MB\n",
      "None\n",
      "User ID         0\n",
      "Games Played    0\n",
      "Datetime        0\n",
      "dtype: int64\n"
     ]
    }
   ],
   "source": [
    "# Display information about the gameplay_data DataFrame\n",
    "gameplay_data.info\n",
    "print(gameplay_data.info())\n",
    "\n",
    "# Check for missing values\n",
    "print(gameplay_data.isnull().sum())"
   ]
  },
  {
   "cell_type": "markdown",
   "id": "57c45928-f8c8-43a3-aec7-0a18d66428be",
   "metadata": {},
   "source": [
    "No Missing Values"
   ]
  },
  {
   "cell_type": "code",
   "execution_count": 6,
   "id": "16d7bce6-4512-4e56-8dc1-22498a8b1bd1",
   "metadata": {},
   "outputs": [
    {
     "data": {
      "text/plain": [
       "np.int64(0)"
      ]
     },
     "execution_count": 6,
     "metadata": {},
     "output_type": "execute_result"
    }
   ],
   "source": [
    "# Count the number of duplicate rows\n",
    "gameplay_data.duplicated().sum()"
   ]
  },
  {
   "cell_type": "code",
   "execution_count": 7,
   "id": "abc904d0-2467-477d-9430-9f90ec73197f",
   "metadata": {},
   "outputs": [
    {
     "data": {
      "text/html": [
       "<div>\n",
       "<style scoped>\n",
       "    .dataframe tbody tr th:only-of-type {\n",
       "        vertical-align: middle;\n",
       "    }\n",
       "\n",
       "    .dataframe tbody tr th {\n",
       "        vertical-align: top;\n",
       "    }\n",
       "\n",
       "    .dataframe thead th {\n",
       "        text-align: right;\n",
       "    }\n",
       "</style>\n",
       "<table border=\"1\" class=\"dataframe\">\n",
       "  <thead>\n",
       "    <tr style=\"text-align: right;\">\n",
       "      <th></th>\n",
       "      <th>User Id</th>\n",
       "      <th>Datetime</th>\n",
       "      <th>Amount</th>\n",
       "    </tr>\n",
       "  </thead>\n",
       "  <tbody>\n",
       "    <tr>\n",
       "      <th>0</th>\n",
       "      <td>1</td>\n",
       "      <td>18-10-2022 23:42</td>\n",
       "      <td>5000</td>\n",
       "    </tr>\n",
       "    <tr>\n",
       "      <th>1</th>\n",
       "      <td>2</td>\n",
       "      <td>01-10-2022 17:31</td>\n",
       "      <td>40000</td>\n",
       "    </tr>\n",
       "    <tr>\n",
       "      <th>2</th>\n",
       "      <td>2</td>\n",
       "      <td>02-10-2022 12:58</td>\n",
       "      <td>5000</td>\n",
       "    </tr>\n",
       "    <tr>\n",
       "      <th>3</th>\n",
       "      <td>2</td>\n",
       "      <td>06-10-2022 02:21</td>\n",
       "      <td>40000</td>\n",
       "    </tr>\n",
       "    <tr>\n",
       "      <th>4</th>\n",
       "      <td>2</td>\n",
       "      <td>08-10-2022 00:52</td>\n",
       "      <td>40000</td>\n",
       "    </tr>\n",
       "  </tbody>\n",
       "</table>\n",
       "</div>"
      ],
      "text/plain": [
       "   User Id          Datetime  Amount\n",
       "0        1  18-10-2022 23:42    5000\n",
       "1        2  01-10-2022 17:31   40000\n",
       "2        2  02-10-2022 12:58    5000\n",
       "3        2  06-10-2022 02:21   40000\n",
       "4        2  08-10-2022 00:52   40000"
      ]
     },
     "execution_count": 7,
     "metadata": {},
     "output_type": "execute_result"
    }
   ],
   "source": [
    "# Show the first 5 rows of the deposit data\n",
    "deposit_data.head()"
   ]
  },
  {
   "cell_type": "code",
   "execution_count": 8,
   "id": "e9fd8153-1dc7-4a51-825f-72ff1d3f4f4d",
   "metadata": {},
   "outputs": [
    {
     "data": {
      "text/plain": [
       "(17437, 3)"
      ]
     },
     "execution_count": 8,
     "metadata": {},
     "output_type": "execute_result"
    }
   ],
   "source": [
    "# Get the shape of the deposit data\n",
    "deposit_data.shape"
   ]
  },
  {
   "cell_type": "code",
   "execution_count": 9,
   "id": "86bcab79-8190-41d7-ac2b-947249ddcc65",
   "metadata": {},
   "outputs": [
    {
     "name": "stdout",
     "output_type": "stream",
     "text": [
      "<class 'pandas.core.frame.DataFrame'>\n",
      "RangeIndex: 17437 entries, 0 to 17436\n",
      "Data columns (total 3 columns):\n",
      " #   Column    Non-Null Count  Dtype \n",
      "---  ------    --------------  ----- \n",
      " 0   User Id   17437 non-null  int64 \n",
      " 1   Datetime  17437 non-null  object\n",
      " 2   Amount    17437 non-null  int64 \n",
      "dtypes: int64(2), object(1)\n",
      "memory usage: 408.8+ KB\n",
      "None\n",
      "User Id     0\n",
      "Datetime    0\n",
      "Amount      0\n",
      "dtype: int64\n"
     ]
    }
   ],
   "source": [
    "# Display information about the deposit_data DataFrame\n",
    "deposit_data.info\n",
    "print(deposit_data.info())\n",
    "\n",
    "# Check for missing values\n",
    "print(deposit_data.isnull().sum())\n"
   ]
  },
  {
   "cell_type": "markdown",
   "id": "9a55215c-3bc3-40e3-b59e-96d4fc54507a",
   "metadata": {},
   "source": [
    "No Missing Values"
   ]
  },
  {
   "cell_type": "code",
   "execution_count": 10,
   "id": "a74dc021-dbd2-4955-a402-a701c5444cc5",
   "metadata": {},
   "outputs": [
    {
     "data": {
      "text/plain": [
       "np.int64(0)"
      ]
     },
     "execution_count": 10,
     "metadata": {},
     "output_type": "execute_result"
    }
   ],
   "source": [
    "# Count the number of duplicate rows\n",
    "deposit_data.duplicated().sum()"
   ]
  },
  {
   "cell_type": "code",
   "execution_count": 11,
   "id": "13970ce2-d257-45cd-94f9-b6701f28c839",
   "metadata": {},
   "outputs": [
    {
     "data": {
      "text/html": [
       "<div>\n",
       "<style scoped>\n",
       "    .dataframe tbody tr th:only-of-type {\n",
       "        vertical-align: middle;\n",
       "    }\n",
       "\n",
       "    .dataframe tbody tr th {\n",
       "        vertical-align: top;\n",
       "    }\n",
       "\n",
       "    .dataframe thead th {\n",
       "        text-align: right;\n",
       "    }\n",
       "</style>\n",
       "<table border=\"1\" class=\"dataframe\">\n",
       "  <thead>\n",
       "    <tr style=\"text-align: right;\">\n",
       "      <th></th>\n",
       "      <th>User Id</th>\n",
       "      <th>Datetime</th>\n",
       "      <th>Amount</th>\n",
       "    </tr>\n",
       "  </thead>\n",
       "  <tbody>\n",
       "    <tr>\n",
       "      <th>0</th>\n",
       "      <td>2</td>\n",
       "      <td>01-10-2022 18:03</td>\n",
       "      <td>55000</td>\n",
       "    </tr>\n",
       "    <tr>\n",
       "      <th>1</th>\n",
       "      <td>2</td>\n",
       "      <td>03-10-2022 02:39</td>\n",
       "      <td>117349</td>\n",
       "    </tr>\n",
       "    <tr>\n",
       "      <th>2</th>\n",
       "      <td>2</td>\n",
       "      <td>04-10-2022 22:42</td>\n",
       "      <td>19000</td>\n",
       "    </tr>\n",
       "    <tr>\n",
       "      <th>3</th>\n",
       "      <td>2</td>\n",
       "      <td>05-10-2022 09:30</td>\n",
       "      <td>36000</td>\n",
       "    </tr>\n",
       "    <tr>\n",
       "      <th>4</th>\n",
       "      <td>2</td>\n",
       "      <td>08-10-2022 21:15</td>\n",
       "      <td>13000</td>\n",
       "    </tr>\n",
       "  </tbody>\n",
       "</table>\n",
       "</div>"
      ],
      "text/plain": [
       "   User Id          Datetime  Amount\n",
       "0        2  01-10-2022 18:03   55000\n",
       "1        2  03-10-2022 02:39  117349\n",
       "2        2  04-10-2022 22:42   19000\n",
       "3        2  05-10-2022 09:30   36000\n",
       "4        2  08-10-2022 21:15   13000"
      ]
     },
     "execution_count": 11,
     "metadata": {},
     "output_type": "execute_result"
    }
   ],
   "source": [
    "# Show the first 5 rows of the withdrawal data\n",
    "withdrawal_data.head()"
   ]
  },
  {
   "cell_type": "code",
   "execution_count": 12,
   "id": "7704fe94-ac0a-43f9-b49c-a7c42819a377",
   "metadata": {},
   "outputs": [
    {
     "data": {
      "text/plain": [
       "(3566, 3)"
      ]
     },
     "execution_count": 12,
     "metadata": {},
     "output_type": "execute_result"
    }
   ],
   "source": [
    "# Get the shape of the withdrawal data\n",
    "withdrawal_data.shape"
   ]
  },
  {
   "cell_type": "code",
   "execution_count": 13,
   "id": "99039887-4be3-447a-8e84-da87ff77d627",
   "metadata": {},
   "outputs": [
    {
     "name": "stdout",
     "output_type": "stream",
     "text": [
      "<class 'pandas.core.frame.DataFrame'>\n",
      "RangeIndex: 3566 entries, 0 to 3565\n",
      "Data columns (total 3 columns):\n",
      " #   Column    Non-Null Count  Dtype \n",
      "---  ------    --------------  ----- \n",
      " 0   User Id   3566 non-null   int64 \n",
      " 1   Datetime  3566 non-null   object\n",
      " 2   Amount    3566 non-null   int64 \n",
      "dtypes: int64(2), object(1)\n",
      "memory usage: 83.7+ KB\n",
      "None\n",
      "User Id     0\n",
      "Datetime    0\n",
      "Amount      0\n",
      "dtype: int64\n"
     ]
    }
   ],
   "source": [
    "# Display information about the withdrawal_data DataFrame\n",
    "withdrawal_data.info\n",
    "print(withdrawal_data.info())\n",
    "\n",
    "# Check for missing values\n",
    "print(withdrawal_data.isnull().sum())"
   ]
  },
  {
   "cell_type": "markdown",
   "id": "9379011d-e18c-41ea-bdf2-6abe0c62020c",
   "metadata": {},
   "source": [
    "No Missing Values"
   ]
  },
  {
   "cell_type": "code",
   "execution_count": 14,
   "id": "12035500-6fb4-4adf-8e1f-e08c743b0554",
   "metadata": {},
   "outputs": [
    {
     "data": {
      "text/plain": [
       "np.int64(0)"
      ]
     },
     "execution_count": 14,
     "metadata": {},
     "output_type": "execute_result"
    }
   ],
   "source": [
    "# Count the number of duplicate rows\n",
    "withdrawal_data.duplicated().sum()"
   ]
  },
  {
   "cell_type": "code",
   "execution_count": 15,
   "id": "a25dad4f-4209-4a73-bbe9-5b46a9355341",
   "metadata": {},
   "outputs": [],
   "source": [
    "# Create deposit data\n",
    "deposit_data = pd.DataFrame({\n",
    "    'Datetime': ['2024-10-02', '2024-10-02', '2024-10-16', '2024-10-18', '2024-10-26'],\n",
    "    'player_id': [1, 2, 1, 2, 1],\n",
    "    'deposit_amount': [100, 200, 150, 300, 100]\n",
    "})\n",
    "\n",
    "# Create withdrawal data\n",
    "withdrawal_data = pd.DataFrame({\n",
    "    'Datetime': ['2024-10-02', '2024-10-18', '2024-10-26'],\n",
    "    'player_id': [1, 2, 1],\n",
    "    'withdrawal_amount': [50, 30, 100]\n",
    "})\n",
    "\n",
    "# Create gameplay data\n",
    "games_played_data = pd.DataFrame({\n",
    "    'Datetime': ['2024-10-02', '2024-10-16', '2024-10-18'],\n",
    "    'player_id': [1, 1, 2],\n",
    "    'game_points': [10, 20, 15]\n",
    "})\n",
    "\n",
    "# Function to calculate loyalty points\n",
    "def calculate_loyalty_points(deposits, withdrawals, games):\n",
    "    deposit_points = deposits['deposit_amount'].sum() * 0.01\n",
    "    withdrawal_points = withdrawals['withdrawal_amount'].sum() * -0.005\n",
    "    game_points = games['game_points'].sum()\n",
    "    \n",
    "    # Total loyalty points\n",
    "    return deposit_points + withdrawal_points + game_points"
   ]
  },
  {
   "cell_type": "code",
   "execution_count": 16,
   "id": "97ef0408-91da-4ecd-b6e0-632baaf70c1f",
   "metadata": {},
   "outputs": [],
   "source": [
    "# Function to calculate slotwise points\n",
    "def calculate_slotwise_points(deposits, withdrawals, games, date, slot):\n",
    "    # Set time range for slots\n",
    "    if slot == 'S1':\n",
    "        slot_start = pd.Timestamp(date)           # 12 AM\n",
    "        slot_end = slot_start + pd.Timedelta(hours=12)  # 12 PM\n",
    "    else:  # S2\n",
    "        slot_start = pd.Timestamp(date) + pd.Timedelta(hours=12)  # 12 PM\n",
    "        slot_end = slot_start + pd.Timedelta(days=1)  # 12 AM next day\n",
    "\n",
    "    # Filter data for the specified time slot\n",
    "    deposits_slot = deposits[(pd.to_datetime(deposits['Datetime']) >= slot_start) & \n",
    "                             (pd.to_datetime(deposits['Datetime']) < slot_end)]\n",
    "    withdrawals_slot = withdrawals[(pd.to_datetime(withdrawals['Datetime']) >= slot_start) & \n",
    "                                   (pd.to_datetime(withdrawals['Datetime']) < slot_end)]\n",
    "    games_slot = games[(pd.to_datetime(games['Datetime']) >= slot_start) & \n",
    "                       (pd.to_datetime(games['Datetime']) < slot_end)]\n",
    "    \n",
    "    # Calculate and return loyalty points for the time slot\n",
    "    return calculate_loyalty_points(deposits_slot, withdrawals_slot, games_slot)\n"
   ]
  },
  {
   "cell_type": "code",
   "execution_count": 17,
   "id": "49d61f96-392a-4069-acbf-68728b486568",
   "metadata": {},
   "outputs": [],
   "source": [
    "# Initialize a dictionary to store player-wise points\n",
    "playerwise_points = {}\n",
    "\n",
    "# Calculate player-wise points for each slot\n",
    "dates_and_slots = {\n",
    "    '2nd October S1': ('2024-10-02', 'S1'),\n",
    "    '16th October S2': ('2024-10-16', 'S2'),\n",
    "    '18th October S1': ('2024-10-18', 'S1'),\n",
    "    '26th October S2': ('2024-10-26', 'S2'),\n",
    "}\n",
    "\n",
    "for key, (date, slot) in dates_and_slots.items():\n",
    "    playerwise_points[key] = deposit_data.groupby('player_id').apply(\n",
    "        lambda x: calculate_slotwise_points(x, withdrawal_data, games_played_data, date, slot),\n",
    "        include_groups=False\n",
    "    )\n",
    "\n",
    "# Create a DataFrame and fill NaN values with 0\n",
    "results_df = pd.DataFrame(playerwise_points).fillna(0)\n"
   ]
  },
  {
   "cell_type": "code",
   "execution_count": 18,
   "id": "cd75444f-62da-47c3-88b0-f9a7873f05b9",
   "metadata": {},
   "outputs": [
    {
     "name": "stdout",
     "output_type": "stream",
     "text": [
      "Playerwise Loyalty Points:\n",
      "           2nd October S1  16th October S2  18th October S1  26th October S2\n",
      "player_id                                                                   \n",
      "1                   10.75              0.0            14.85              0.0\n",
      "2                   11.75              0.0            17.85              0.0\n"
     ]
    }
   ],
   "source": [
    "# Display playerwise loyalty points\n",
    "print(\"Playerwise Loyalty Points:\")\n",
    "print(results_df)"
   ]
  },
  {
   "cell_type": "markdown",
   "id": "dc75becf-9d10-40c6-ae2b-ea1c1358fe35",
   "metadata": {},
   "source": [
    "Both players earned points on October 2 and 18.\n",
    "No activity on October 16 and 26 resulted in 0.0 points for those slots."
   ]
  },
  {
   "cell_type": "code",
   "execution_count": 19,
   "id": "11a2271d-9af1-4312-b845-c9f3f8bffb26",
   "metadata": {},
   "outputs": [],
   "source": [
    "# Calculate overall loyalty points for each player in October\n",
    "overall_points = deposit_data.groupby('player_id').apply(\n",
    "    lambda player_data: calculate_loyalty_points(\n",
    "        player_data,\n",
    "        withdrawal_data[withdrawal_data['player_id'] == player_data.name],\n",
    "        games_played_data[games_played_data['player_id'] == player_data.name]\n",
    "    ),\n",
    "    include_groups=False  # Exclude 'player_id' from the result\n",
    ")"
   ]
  },
  {
   "cell_type": "code",
   "execution_count": 20,
   "id": "37760ade-3af0-4d32-859e-80d6bc12c9ca",
   "metadata": {},
   "outputs": [],
   "source": [
    "# Create a DataFrame with 'loyalty_points' as a column\n",
    "overall_points_df = overall_points.reset_index(name='loyalty_points')"
   ]
  },
  {
   "cell_type": "code",
   "execution_count": 21,
   "id": "0e38d367-59af-4299-b49d-76352e4413a3",
   "metadata": {},
   "outputs": [],
   "source": [
    "# Count total games played by each player\n",
    "total_games_played = games_played_data.groupby('player_id')['game_points'].count().reset_index(name='total_games')\n",
    "\n",
    "# Merge total games played with overall points DataFrame\n",
    "overall_points_df = overall_points_df.merge(total_games_played, on='player_id', how='left').fillna(0)\n"
   ]
  },
  {
   "cell_type": "code",
   "execution_count": 22,
   "id": "c34b0854-7bb3-480f-a6b9-e00fc1361945",
   "metadata": {},
   "outputs": [],
   "source": [
    "# Rank players by loyalty points using dense ranking\n",
    "overall_points_df['rank'] = overall_points_df['loyalty_points'].rank(ascending=False, method='dense')\n",
    "\n",
    "# Sort DataFrame by loyalty points and total games played\n",
    "overall_points_df = overall_points_df.sort_values(by=['loyalty_points', 'total_games'], ascending=[False, False]).reset_index(drop=True)\n"
   ]
  },
  {
   "cell_type": "code",
   "execution_count": 23,
   "id": "51946de7-69b7-4437-9b7f-d92b66c17fd3",
   "metadata": {},
   "outputs": [
    {
     "name": "stdout",
     "output_type": "stream",
     "text": [
      "\n",
      "Overall Points and Rankings:\n",
      "   player_id  loyalty_points  total_games  rank\n",
      "0          1           32.75            2   1.0\n",
      "1          2           19.85            1   2.0\n"
     ]
    }
   ],
   "source": [
    "# Display overall points and rankings\n",
    "print(\"\\nOverall Points and Rankings:\")\n",
    "print(overall_points_df)"
   ]
  },
  {
   "attachments": {},
   "cell_type": "markdown",
   "id": "efe65608-5403-4584-967f-1e45f509dcb2",
   "metadata": {},
   "source": [
    "Player 1 has the highest loyalty points and games played, while Player 2 has lower loyalty points and games played."
   ]
  },
  {
   "cell_type": "code",
   "execution_count": 24,
   "id": "f5d7e0da-1e87-468a-8124-60171d4b20f7",
   "metadata": {},
   "outputs": [],
   "source": [
    "# Calculate average deposit amount\n",
    "average_deposit_amount = deposit_data['deposit_amount'].mean()\n",
    "\n",
    "# Calculate average deposit amount per user\n",
    "average_deposit_per_user = deposit_data.groupby('player_id')['deposit_amount'].sum().mean()\n",
    "\n",
    "# Calculate average games played per user\n",
    "average_games_played_per_user = games_played_data.groupby('player_id')['game_points'].count().mean()\n"
   ]
  },
  {
   "cell_type": "code",
   "execution_count": 25,
   "id": "99160681-8e72-428f-a5d6-1190fec7bbb1",
   "metadata": {},
   "outputs": [
    {
     "name": "stdout",
     "output_type": "stream",
     "text": [
      "\n",
      "Average Deposit Amount: 170.00\n",
      "Average Deposit Amount per User: 425.00\n",
      "Average Games Played per User: 1.50\n"
     ]
    }
   ],
   "source": [
    "# Display average deposit amounts and games played\n",
    "print(f\"\\nAverage Deposit Amount: {average_deposit_amount:.2f}\")\n",
    "print(f\"Average Deposit Amount per User: {average_deposit_per_user:.2f}\")\n",
    "print(f\"Average Games Played per User: {average_games_played_per_user:.2f}\")\n"
   ]
  },
  {
   "cell_type": "code",
   "execution_count": 26,
   "id": "ad6e2936-cb22-4b01-b86f-5a228472a532",
   "metadata": {},
   "outputs": [],
   "source": [
    "data = {\n",
    "    'player_id': [1, 2, 3, 4, 5],\n",
    "    'deposit_amount': [1000, 1500, 700, 1200, 1300],\n",
    "    'withdrawal_amount': [500, 300, 200, 100, 400],\n",
    "    'deposit_count': [5, 8, 3, 6, 7],\n",
    "    'withdrawal_count': [3, 1, 1, 2, 2],\n",
    "    'games_played': [20, 25, 15, 30, 18]\n",
    "}\n",
    "\n",
    "# Create a DataFrame\n",
    "overall_points = pd.DataFrame(data)\n",
    "\n",
    "# Calculate loyalty points for each player\n",
    "overall_points['loyalty_points'] = (\n",
    "    0.01 * overall_points['deposit_amount'] +\n",
    "    0.005 * overall_points['withdrawal_amount'] +\n",
    "    0.001 * np.maximum(overall_points['deposit_count'] - overall_points['withdrawal_count'], 0) +\n",
    "    0.2 * overall_points['games_played']\n",
    ")\n",
    "\n",
    "# Calculate total loyalty points for the top 50 players\n",
    "total_points_top_50 = overall_points.nlargest(50, 'loyalty_points')['loyalty_points'].sum()\n",
    "\n",
    "# Allocate bonuses based on loyalty points\n",
    "overall_points['bonus'] = (overall_points['loyalty_points'] / total_points_top_50) * 50000"
   ]
  },
  {
   "cell_type": "code",
   "execution_count": 27,
   "id": "bf9b2938-47eb-481b-9b8a-286c04e42dda",
   "metadata": {},
   "outputs": [
    {
     "name": "stdout",
     "output_type": "stream",
     "text": [
      "Overall Points with Loyalty Points and Bonus:\n",
      "    player_id  deposit_amount  withdrawal_amount  deposit_count  \\\n",
      "0          1            1000                500              5   \n",
      "1          2            1500                300              8   \n",
      "2          3             700                200              3   \n",
      "3          4            1200                100              6   \n",
      "4          5            1300                400              7   \n",
      "\n",
      "   withdrawal_count  games_played  loyalty_points         bonus  \n",
      "0                 3            20          16.502   9580.817464  \n",
      "1                 1            25          21.507  12486.646540  \n",
      "2                 1            15          11.002   6387.598699  \n",
      "3                 2            30          18.504  10743.149094  \n",
      "4                 2            18          18.605  10801.788203  \n"
     ]
    }
   ],
   "source": [
    "# Display results\n",
    "print(\"Overall Points with Loyalty Points and Bonus:\\n\", overall_points)"
   ]
  },
  {
   "cell_type": "markdown",
   "id": "4c320bb2-2ebf-49c0-a7a1-13637a820b58",
   "metadata": {},
   "source": [
    "Bonuses based on Loyalty Points\n"
   ]
  },
  {
   "cell_type": "code",
   "execution_count": null,
   "id": "5da5e223-d425-457b-8a2f-8d86cd6bb3e6",
   "metadata": {},
   "outputs": [],
   "source": []
  }
 ],
 "metadata": {
  "kernelspec": {
   "display_name": "Python 3 (ipykernel)",
   "language": "python",
   "name": "python3"
  },
  "language_info": {
   "codemirror_mode": {
    "name": "ipython",
    "version": 3
   },
   "file_extension": ".py",
   "mimetype": "text/x-python",
   "name": "python",
   "nbconvert_exporter": "python",
   "pygments_lexer": "ipython3",
   "version": "3.12.5"
  }
 },
 "nbformat": 4,
 "nbformat_minor": 5
}
